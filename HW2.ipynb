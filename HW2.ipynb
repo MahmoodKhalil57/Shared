{
 "cells": [
  {
   "cell_type": "markdown",
   "metadata": {},
   "source": [
    "# ECH 60 Spring 2022: HW 2\n",
    "\n",
    "Rename this file as lastname_firstname and upload to canvas before 5pm Friday, April 1st.\n",
    "<font color='red'> Total 4 points</font>. Partial points will be awarded ONLY IF a reasonable attempt has been made."
   ]
  },
  {
   "cell_type": "markdown",
   "metadata": {},
   "source": [
    "**PROBLEM 0:** Import `numpy` and `matplotlib.pyplot`"
   ]
  },
  {
   "cell_type": "code",
   "execution_count": null,
   "metadata": {},
   "outputs": [],
   "source": [
    "import numpy as np\n",
    "import matplotlib.pyplot as plt"
   ]
  },
  {
   "cell_type": "markdown",
   "metadata": {},
   "source": [
    "**PROBLEM 1:** Given a matrix, write a short function that determines if the matrix is symmetric. You can do it using python's inbuilt `np.tranpose` function or without it. Attempt this problem using both approaches."
   ]
  },
  {
   "cell_type": "code",
   "execution_count": null,
   "metadata": {},
   "outputs": [],
   "source": [
    "# without np.tranpose()\n",
    "def transpose(A):\n",
    "    return [[A[j][i] for j in range(len(A))] for i in range(len(A[0]))]\n",
    "    "
   ]
  },
  {
   "cell_type": "code",
   "execution_count": null,
   "metadata": {},
   "outputs": [],
   "source": [
    "# using np.transpose()\n",
    "def transpose2(A):\n",
    "    return np.transpose(A)"
   ]
  },
  {
   "cell_type": "markdown",
   "metadata": {},
   "source": [
    "**PROBLEM 2:** Generate two arrays $x$ and $y$ using linspace, both going from -2 to +2 in 100 steps. Then create 2D arrays using meshgrid called xgrid and ygrid. Create another 2D array called fvalues that contains values of the function $f(x,y)=\\cos (x^3+y^2)$ at each point.\n",
    "\n",
    "\n",
    "Then, create ***three horizontal subplots***: \n",
    "\n",
    "* LEFT: A pseudocolor representation of the function $f(x,y)$ in the entire range of $x$ and $y$. Colorbar is optional.\n",
    "* CENTER: A filled contour representation of the function in the range of both $x$ and $y$ between -2 and 0. (Hint: this would be a 'zoomed in' view of the lower left quarter of the grid; so slice in both dimensions appropriately)\n",
    "* RIGHT: A simple plot of $f(x=-2,y)$ vs $y$. Use the appropriate slice of fvalues to generate this plot."
   ]
  },
  {
   "cell_type": "code",
   "execution_count": null,
   "metadata": {},
   "outputs": [],
   "source": []
  },
  {
   "cell_type": "markdown",
   "metadata": {},
   "source": [
    "*Rough work/test cells (won't be graded):*"
   ]
  },
  {
   "cell_type": "code",
   "execution_count": null,
   "metadata": {},
   "outputs": [],
   "source": []
  },
  {
   "cell_type": "code",
   "execution_count": null,
   "metadata": {},
   "outputs": [],
   "source": []
  },
  {
   "cell_type": "code",
   "execution_count": null,
   "metadata": {},
   "outputs": [],
   "source": []
  },
  {
   "cell_type": "code",
   "execution_count": null,
   "metadata": {},
   "outputs": [],
   "source": []
  }
 ],
 "metadata": {
  "kernelspec": {
   "display_name": "Python 3",
   "language": "python",
   "name": "python3"
  },
  "language_info": {
   "codemirror_mode": {
    "name": "ipython",
    "version": 3
   },
   "file_extension": ".py",
   "mimetype": "text/x-python",
   "name": "python",
   "nbconvert_exporter": "python",
   "pygments_lexer": "ipython3",
   "version": "3.7.6"
  }
 },
 "nbformat": 4,
 "nbformat_minor": 4
}
